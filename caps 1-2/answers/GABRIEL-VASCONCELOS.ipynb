{
 "cells": [
  {
   "cell_type": "markdown",
   "metadata": {},
   "source": [
    "# Capítulos 1 e 2"
   ]
  },
  {
   "cell_type": "markdown",
   "metadata": {},
   "source": [
    "In the chapters 1 and 2 of \"Web Scraping with Python\" you were able to learn more about the following subjects:\n",
    "* Exception Handling\n",
    "* BeautifulSoup\n",
    "  * find() and findall()\n",
    "    * argument *attributes*\n",
    "    * argument *text*\n",
    "    * argument *limit*\n",
    "  * children() and descendants()\n",
    "  * next_siblings() and previous_siblings()\n",
    "  * parent() e parents()\n",
    "* Accessing attributes\n",
    "* Regular Expressions\n",
    "* Lambda Expressions\n",
    "  \n",
    "The following cells aim to practice the contents listed above. For any sugestions, contact *gabriel.vasconcelos@usp.br*\n",
    "\n",
    "Use the website https://scraping-cap1-2.netlify.app/ to answer this notebook."
   ]
  },
  {
   "cell_type": "code",
   "execution_count": 125,
   "metadata": {},
   "outputs": [],
   "source": [
    "# Import BeautifulSoup and other libraries you find useful\n",
    "from bs4 import BeautifulSoup\n",
    "import re\n",
    "from urllib.error import URLError, HTTPError\n",
    "from urllib.request import urlopen"
   ]
  },
  {
   "cell_type": "code",
   "execution_count": 126,
   "metadata": {},
   "outputs": [],
   "source": [
    "# Get the website https://scraping-cap1-2.netlify.app/ and pass it to a BeautifulSoup object\n",
    "# with proper error handling\n",
    "def getSiteBS(site):\n",
    "    try:\n",
    "        html = urlopen(site)\n",
    "    except HTTPError as e:\n",
    "        return None\n",
    "    except URLError as e:\n",
    "        return None\n",
    "    return BeautifulSoup(html, 'html.parser')\n",
    "\n",
    "bs = getSiteBS('https://scraping-cap1-2.netlify.app/')"
   ]
  },
  {
   "cell_type": "markdown",
   "metadata": {},
   "source": [
    "### a.\n",
    "Get all information about the movie \"Green Book\".\n",
    "\n",
    "**Answer**: \n",
    "```\n",
    "{\n",
    "    \"Movie\": \"Green Book\",\n",
    "    \"Actors\": [\"Viggo Mortensen\", \"Mahershala Ali\", \"Linda Cardellini\"],\n",
    "    \"Director\": \"Peter Farrelly\",\n",
    "    \"Year\": 2018\n",
    "}\n",
    "```"
   ]
  },
  {
   "cell_type": "code",
   "execution_count": 127,
   "metadata": {},
   "outputs": [],
   "source": [
    "def getHeadersDict(header):\n",
    "    headersDict = {}\n",
    "    i = 0\n",
    "    for column in header.children:\n",
    "        strColumn = column.get_text().strip()\n",
    "        if len(strColumn) > 0:\n",
    "            headersDict[strColumn] = i\n",
    "            i += 1\n",
    "    \n",
    "    return headersDict\n",
    "\n",
    "def getHeadersList(header):\n",
    "    headersList = []\n",
    "    for column in header.children:\n",
    "        strColumn = column.get_text().strip()\n",
    "        if len(strColumn) > 0:\n",
    "            headersList.append(strColumn)\n",
    "            \n",
    "    return headersList\n",
    "\n",
    "def getHeader(movie):\n",
    "    return movie.parent.findChildren()[0]\n",
    "\n",
    "def makeMovieDict(movie, headers=None):\n",
    "    if headers == None:\n",
    "        headers = getHeadersList(getHeader(movie))\n",
    "    \n",
    "    result = {}\n",
    "    i = 0\n",
    "    for value in movie.children:\n",
    "        strValue = value.get_text().strip()\n",
    "        if len(strValue) > 0:\n",
    "            if headers[i] == 'Actors':\n",
    "                result[headers[i]] = [actor.strip() for actor in strValue.split(',')]\n",
    "            elif headers[i] == 'Year':\n",
    "                result[headers[i]] = int(strValue)\n",
    "            else:\n",
    "                result[headers[i]] = strValue\n",
    "            i += 1\n",
    "    \n",
    "    return result\n",
    "\n",
    "def getColumnTable(table, column):\n",
    "    data = []\n",
    "    \n",
    "    headersDict = getHeadersDict(table.tr)\n",
    "    for row in table.tr.findNextSiblings('tr'):\n",
    "        row = row.findChildren()\n",
    "        strRow = row[headersDict[column]].get_text().strip()\n",
    "        if column == 'Actors':\n",
    "            data.append([actor.strip() for actor in strRow.split(',')])\n",
    "        elif column == 'Year':\n",
    "            data.append(int(strRow))\n",
    "        else:\n",
    "            data.append(strRow)\n",
    "        \n",
    "    return data"
   ]
  },
  {
   "cell_type": "code",
   "execution_count": 128,
   "metadata": {},
   "outputs": [
    {
     "data": {
      "text/plain": [
       "{'Movie': 'Green Book',\n",
       " 'Actors': ['Viggo Mortensen', 'Mahershala Ali', 'Linda Cardellini'],\n",
       " 'Director': 'Peter Farrelly',\n",
       " 'Year': 2018}"
      ]
     },
     "execution_count": 128,
     "metadata": {},
     "output_type": "execute_result"
    }
   ],
   "source": [
    "# Code below\n",
    "\n",
    "def getMovieByName(name):\n",
    "    movie = bs.find('td', text=name).parent\n",
    "    return makeMovieDict(movie)\n",
    "        \n",
    "\n",
    "getMovieByName('Green Book')"
   ]
  },
  {
   "cell_type": "markdown",
   "metadata": {},
   "source": [
    "### b.\n",
    "Get the title of the first two movies that appeared in the website which have won the Oscars.\n",
    "\n",
    "Answer: `[\"Green Book\", \"The Post\"]`"
   ]
  },
  {
   "cell_type": "code",
   "execution_count": 129,
   "metadata": {},
   "outputs": [
    {
     "data": {
      "text/plain": [
       "['Green Book', 'The Post']"
      ]
     },
     "execution_count": 129,
     "metadata": {},
     "output_type": "execute_result"
    }
   ],
   "source": [
    "# Code below\n",
    "\n",
    "oscars = bs.find_all('tr', {'class': 'oscar'}, limit=2)\n",
    "\n",
    "headers = getHeadersDict(getHeader(oscars[0]))\n",
    "\n",
    "movieNames = []\n",
    "for movie in oscars:\n",
    "    movieNames.append(movie.findChildren()[headers['Movie']].get_text())\n",
    "    \n",
    "movieNames"
   ]
  },
  {
   "cell_type": "markdown",
   "metadata": {},
   "source": [
    "### c.\n",
    "Get all information from movies of Participant Films.\n",
    "\n",
    "**Answer**: \n",
    "```\n",
    "[{\n",
    "    \"Movie\": \"Green Book\",\n",
    "    \"Actors\": [\"Viggo Mortensen\", \"Mahershala Ali\", \"Linda Cardellini\"],\n",
    "    \"Director\": \"Peter Farrelly\",\n",
    "    \"Year\": 2018\n",
    "},\n",
    "{\n",
    "    \"Movie\": \"The Post\",\n",
    "    \"Actors\": [\"Meryl Streep\", \"Tom Hanks\", \"Sarah Paulson\"],\n",
    "    \"Director\": \"Steven Spielberg\",\n",
    "    \"Year\": 2017\n",
    "},\n",
    "{\n",
    "    \"Movie\": \"Roma\",\n",
    "    \"Actors\": [\"Yalitza Aparicio\", \"Marina de Tavira\"],\n",
    "    \"Director\": \"Alfonso Cuarón\",\n",
    "    \"Year\": 2018\n",
    "},\n",
    "{\n",
    "    \"Movie\": \"Spotlight\",\n",
    "    \"Actors\": [\"Mark Rufallo\", \"Michael Keaton\", \"Rachel McAdams\"],\n",
    "    \"Director\": \"Tom McCarthy\",\n",
    "    \"Year\": 2015\n",
    "}]\n",
    "```"
   ]
  },
  {
   "cell_type": "code",
   "execution_count": 130,
   "metadata": {},
   "outputs": [
    {
     "data": {
      "text/plain": [
       "[{'Movie': 'Green Book',\n",
       "  'Actors': ['Viggo Mortensen', 'Mahershala Ali', 'Linda Cardellini'],\n",
       "  'Director': 'Peter Farrelly',\n",
       "  'Year': 2018},\n",
       " {'Movie': 'The Post',\n",
       "  'Actors': ['Meryl Streep', 'Tom Hanks', 'Sarah Paulson'],\n",
       "  'Director': 'Steven Spielberg',\n",
       "  'Year': 2017},\n",
       " {'Movie': 'Roma',\n",
       "  'Actors': ['Yalitza Aparicio', 'Marina de Tavira'],\n",
       "  'Director': 'Alfonso Cuarón',\n",
       "  'Year': 2018},\n",
       " {'Movie': 'Spotlight',\n",
       "  'Actors': ['Mark Rufallo', 'Michael Keaton', 'Rachel McAdams'],\n",
       "  'Director': 'Tom McCarthy',\n",
       "  'Year': 2015}]"
      ]
     },
     "execution_count": 130,
     "metadata": {},
     "output_type": "execute_result"
    }
   ],
   "source": [
    "# Code below\n",
    "\n",
    "participant = bs.find('div', {'id': 'participant'}).table\n",
    "\n",
    "movies = []\n",
    "i = 0\n",
    "for movie in participant.children:\n",
    "    movieStr = movie.get_text().strip()\n",
    "    if len(movieStr) > 0:\n",
    "        if i > 0:\n",
    "            movies.append(makeMovieDict(movie))\n",
    "        i += 1\n",
    "\n",
    "movies"
   ]
  },
  {
   "cell_type": "markdown",
   "metadata": {},
   "source": [
    "### d.\n",
    "Get all directors.\n",
    "\n",
    "**Answer**:\n",
    " ```{'Chris Columbus', 'Alfonso Cuarón', 'Mike Newell', 'David Yates', 'Peter Farrelly', 'Steven Spielberg', 'Tom McCarthy', 'Denis Villeneuve'}```\n",
    "\n",
    "> **Tip:**  The directors are not in the same column index in the two tables."
   ]
  },
  {
   "cell_type": "code",
   "execution_count": 131,
   "metadata": {},
   "outputs": [
    {
     "data": {
      "text/plain": [
       "{'Alfonso Cuarón',\n",
       " 'Chris Columbus',\n",
       " 'David Yates',\n",
       " 'Denis Villeneuve',\n",
       " 'Mike Newell',\n",
       " 'Peter Farrelly',\n",
       " 'Steven Spielberg',\n",
       " 'Tom McCarthy'}"
      ]
     },
     "execution_count": 131,
     "metadata": {},
     "output_type": "execute_result"
    }
   ],
   "source": [
    "# Code below\n",
    "\n",
    "directors = set()\n",
    "\n",
    "for table in bs.find_all('table'):\n",
    "    tableDirectors = getColumnTable(table, 'Director')\n",
    "    directors.update(tableDirectors)\n",
    "    \n",
    "directors"
   ]
  },
  {
   "cell_type": "markdown",
   "metadata": {},
   "source": [
    "### e.\n",
    "Get the next movie in the table after the one that was lauched in 2004.\n",
    "\n",
    "**Answer**: \n",
    "```\n",
    "{\n",
    "    \"Movie\": \"Harry Potter and the Goblet of Fire\",\n",
    "    \"Actors\": [\"Daniel Radcliffe\", \"Emma Watson\", \"Rupert Grint\", \"Alan Rickman\", \"Michael Gambon\"],\n",
    "    \"Year\": 2005,\n",
    "    \"Director\": \"Mike Newell\"\n",
    "}\n",
    "```"
   ]
  },
  {
   "cell_type": "code",
   "execution_count": 132,
   "metadata": {},
   "outputs": [
    {
     "data": {
      "text/plain": [
       "{'Movie': 'Harry Potter and the Goblet of Fire',\n",
       " 'Actors': ['Daniel Radcliffe',\n",
       "  'Emma Watson',\n",
       "  'Rupert Grint',\n",
       "  'Alan Rickman',\n",
       "  'Michael Gambon'],\n",
       " 'Year': 2005,\n",
       " 'Director': 'Mike Newell'}"
      ]
     },
     "execution_count": 132,
     "metadata": {},
     "output_type": "execute_result"
    }
   ],
   "source": [
    "# Code below\n",
    "movie2004 = bs.find('td', text='2004')\n",
    "nextMovie = movie2004.parent.find_next_sibling('tr')\n",
    "nextMovieDict = makeMovieDict(nextMovie)\n",
    "\n",
    "nextMovieDict"
   ]
  },
  {
   "cell_type": "markdown",
   "metadata": {},
   "source": [
    "### f.\n",
    "Get the production company responsible for *Harry Potter and the Half-Blood Prince*.\n",
    "\n",
    "**Answer**: Warner Bros. Pictures"
   ]
  },
  {
   "cell_type": "code",
   "execution_count": 133,
   "metadata": {},
   "outputs": [
    {
     "data": {
      "text/plain": [
       "'Warner Bros. Pictures'"
      ]
     },
     "execution_count": 133,
     "metadata": {},
     "output_type": "execute_result"
    }
   ],
   "source": [
    "# Code below\n",
    "\n",
    "harryMovie = bs.find('td', text='Harry Potter and the Half-Blood Prince').parent\n",
    "production = harryMovie.parent.parent.find('h2').get_text()\n",
    "\n",
    "production"
   ]
  },
  {
   "cell_type": "markdown",
   "metadata": {},
   "source": [
    "### g.\n",
    "Get URL from images.\n",
    "\n",
    "**Answer**: `[\"https://upload.wikimedia.org/wikipedia/commons/thumb/d/d2/Warner_Bros._%282019%29_logo.svg/1200px-Warner_Bros._%282019%29_logo.svg.png\", \"https://upload.wikimedia.org/wikipedia/commons/0/07/Participant_%282019%29.svg\"]`"
   ]
  },
  {
   "cell_type": "code",
   "execution_count": 134,
   "metadata": {},
   "outputs": [
    {
     "data": {
      "text/plain": [
       "['https://upload.wikimedia.org/wikipedia/commons/thumb/d/d2/Warner_Bros._%282019%29_logo.svg/1200px-Warner_Bros._%282019%29_logo.svg.png',\n",
       " 'https://upload.wikimedia.org/wikipedia/commons/0/07/Participant_%282019%29.svg']"
      ]
     },
     "execution_count": 134,
     "metadata": {},
     "output_type": "execute_result"
    }
   ],
   "source": [
    "# Code below\n",
    "\n",
    "images = [image['src'] for image in bs.find_all('img')]\n",
    "images"
   ]
  },
  {
   "cell_type": "markdown",
   "metadata": {},
   "source": [
    "### h.\n",
    "Get the name of all movies which have 're' in ther names.\n",
    "\n",
    "**Answer**: `['Harry Potter and the Chamber of Secrets', 'Harry Potter and the Goblet of Fire', 'Green Book']`"
   ]
  },
  {
   "cell_type": "code",
   "execution_count": 135,
   "metadata": {},
   "outputs": [
    {
     "data": {
      "text/plain": [
       "{'Green Book',\n",
       " 'Harry Potter and the Chamber of Secrets',\n",
       " 'Harry Potter and the Goblet of Fire'}"
      ]
     },
     "execution_count": 135,
     "metadata": {},
     "output_type": "execute_result"
    }
   ],
   "source": [
    "# Code below\n",
    "def getAllMovies():\n",
    "    movies = set()\n",
    "    for table in bs.find_all('table'):\n",
    "        movies.update(getColumnTable(table, 'Movie'))\n",
    "        \n",
    "    return movies\n",
    "\n",
    "results = bs.find_all('td', text=re.compile('.*re.*'))\n",
    "results = {movie.get_text() for movie in results}\n",
    "movies = getAllMovies()\n",
    "results.intersection_update(movies)\n",
    "results"
   ]
  },
  {
   "cell_type": "markdown",
   "metadata": {},
   "source": [
    "### i.\n",
    "This is a **challenge exercise**. Get the name of the movies for each director which have directed both in Warner Bros Pictures and Participant Films.\n",
    "\n",
    "**Answer**: \n",
    "```\n",
    "{\n",
    "    'Alfonso Cuarón': ['Harry Potter and the Prisoner of Askaban', 'Roma']\n",
    "}\n",
    "```"
   ]
  },
  {
   "cell_type": "code",
   "execution_count": 136,
   "metadata": {},
   "outputs": [
    {
     "name": "stdout",
     "output_type": "stream",
     "text": [
      "{'Alfonso Cuarón': ['Harry Potter and the Prisoner of Askaban', 'Roma']}\n"
     ]
    }
   ],
   "source": [
    "# Code below\n",
    "\n",
    "productors = ['warner', 'participant']\n",
    "productorsTables = [bs.find('div', {'id': value}).table for value in ['warner', 'participant']]\n",
    "\n",
    "directors = [set(getColumnTable(table, 'Director')) for table in productorsTables]\n",
    "\n",
    "mutualDirectors = directors[0].intersection(*directors)\n",
    "mutualDirectors\n",
    "\n",
    "result = {director: [] for director in mutualDirectors}\n",
    "\n",
    "for table in productorsTables:\n",
    "    headers = getHeadersDict(table.tr)\n",
    "    for row in table.findChildren('tr'):\n",
    "        rowStr = row.get_text().strip()\n",
    "        for director in mutualDirectors:\n",
    "            if director in rowStr:\n",
    "                result[director].append(row.findChildren('td')[headers['Movie']].get_text())\n",
    "\n",
    "print(result)"
   ]
  }
 ],
 "metadata": {
  "kernelspec": {
   "display_name": "Python 3.9.13 64-bit (microsoft store)",
   "language": "python",
   "name": "python3"
  },
  "language_info": {
   "codemirror_mode": {
    "name": "ipython",
    "version": 3
   },
   "file_extension": ".py",
   "mimetype": "text/x-python",
   "name": "python",
   "nbconvert_exporter": "python",
   "pygments_lexer": "ipython3",
   "version": "3.9.13"
  },
  "orig_nbformat": 4,
  "vscode": {
   "interpreter": {
    "hash": "b7f22e608a9410c9a00adbb49e3cb6a72010c497ae6b30c9496ff58de178a89c"
   }
  }
 },
 "nbformat": 4,
 "nbformat_minor": 2
}
