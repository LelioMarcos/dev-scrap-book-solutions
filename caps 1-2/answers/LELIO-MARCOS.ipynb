{
 "cells": [
  {
   "cell_type": "markdown",
   "metadata": {},
   "source": [
    "# Capítulos 1 e 2"
   ]
  },
  {
   "cell_type": "markdown",
   "metadata": {},
   "source": [
    "In the chapters 1 and 2 of \"Web Scraping with Python\" you were able to learn more about the following subjects:\n",
    "* Exception Handling\n",
    "* BeautifulSoup\n",
    "  * find() and findall()\n",
    "    * argument *attributes*\n",
    "    * argument *text*\n",
    "    * argument *limit*\n",
    "  * children() and descendants()\n",
    "  * next_siblings() and previous_siblings()\n",
    "  * parent() e parents()\n",
    "* Accessing attributes\n",
    "* Regular Expressions\n",
    "* Lambda Expressions\n",
    "  \n",
    "The following cells aim to practice the contents listed above. For any sugestions, contact *gabriel.vasconcelos@usp.br*\n",
    "\n",
    "Use the website https://scraping-cap1-2.netlify.app/ to answer this notebook."
   ]
  },
  {
   "cell_type": "code",
   "execution_count": 1,
   "metadata": {},
   "outputs": [],
   "source": [
    "from bs4 import BeautifulSoup\n",
    "from urllib.request import urlopen\n",
    "from urllib.error import HTTPError\n",
    "from urllib.error import URLError\n"
   ]
  },
  {
   "cell_type": "code",
   "execution_count": 2,
   "metadata": {},
   "outputs": [
    {
     "name": "stdout",
     "output_type": "stream",
     "text": [
      "<h1>Movie List by Production Companies</h1>\n"
     ]
    }
   ],
   "source": [
    "# Get the website https://scraping-cap1-2.netlify.app/ and pass it to a BeautifulSoup object \n",
    "# with proper error handling\n",
    "\n",
    "try:\n",
    "    html = urlopen(\"https://scraping-cap1-2.netlify.app/\")\n",
    "except HTTPError as e:\n",
    "    print(e)\n",
    "except URLError as e:\n",
    "    print(\"Servidor não achado\")\n",
    "\n",
    "bs = BeautifulSoup(html)"
   ]
  },
  {
   "cell_type": "markdown",
   "metadata": {},
   "source": [
    "### a.\n",
    "Get all information about the movie \"Green Book\".\n",
    "\n",
    "**Answer**: \n",
    "```\n",
    "{\n",
    "    \"Movie\": \"Green Book\",\n",
    "    \"Actors\": [\"Viggo Mortensen\", \"Mahershala Ali\", \"Linda Cardellini\"],\n",
    "    \"Director\": \"Peter Farrelly\",\n",
    "    \"Year\": 2018\n",
    "}\n",
    "```"
   ]
  },
  {
   "cell_type": "code",
   "execution_count": 63,
   "metadata": {},
   "outputs": [
    {
     "data": {
      "text/plain": [
       "{'Movie': 'Green Book',\n",
       " 'Actors': ['Viggo Mortensen', 'Mahershala Ali', 'Linda Cardellini'],\n",
       " 'Director': 'Peter Farrelly',\n",
       " 'Year': 2018}"
      ]
     },
     "execution_count": 63,
     "metadata": {},
     "output_type": "execute_result"
    }
   ],
   "source": [
    "# Code below\n",
    "def getHeader(header):\n",
    "    headers = {}\n",
    "    i = 0\n",
    "    for h in header.children:\n",
    "        col = h.get_text().strip()\n",
    "        if col != '':\n",
    "            headers[col] = i\n",
    "            i += 1\n",
    "    \n",
    "    return headers\n",
    "\n",
    "def header2list(header_dict):\n",
    "    headers = []\n",
    "\n",
    "    for h in header_dict:\n",
    "        headers.insert(header_dict[h], h)\n",
    "\n",
    "    return headers\n",
    "\n",
    "def get_info(movie, header_dict):\n",
    "    info = {}\n",
    "    headers = header2list(header_dict)\n",
    "\n",
    "    for i, field in enumerate(movie):\n",
    "        fil = field.get_text().strip()\n",
    "\n",
    "        if headers[i] == \"Actors\":\n",
    "            info[headers[i]] = fil.split(\", \")\n",
    "        elif headers[i] == \"Year\":\n",
    "            info[headers[i]] = int(fil)\n",
    "        else:\n",
    "            info[headers[i]] = fil\n",
    "\n",
    "    return info\n",
    "\n",
    "oscar = bs.find(\"tr\", {\"class\": \"oscar\"})\n",
    "header = getHeader(oscar.findPreviousSibling())\n",
    "inf = get_info(oscar.findChildren(), header)\n",
    "inf"
   ]
  },
  {
   "cell_type": "markdown",
   "metadata": {},
   "source": [
    "### b.\n",
    "Get the title of the first two movies that appeared in the website which have won the Oscars.\n",
    "\n",
    "Answer: `[\"Green Book\", \"The Post\"]`"
   ]
  },
  {
   "cell_type": "code",
   "execution_count": 34,
   "metadata": {},
   "outputs": [
    {
     "data": {
      "text/plain": [
       "['Green Book', 'The Post']"
      ]
     },
     "execution_count": 34,
     "metadata": {},
     "output_type": "execute_result"
    }
   ],
   "source": [
    "# Code below\n",
    "\n",
    "oscars = bs.findAll(\"tr\", {\"class\": \"oscar\"},limit=2)\n",
    "names = [get_info(movie.findChildren(), header)[\"Movie\"] for movie in oscars]\n",
    "names"
   ]
  },
  {
   "cell_type": "markdown",
   "metadata": {},
   "source": [
    "### c.\n",
    "Get all information from movies of Participant Films.\n",
    "\n",
    "**Answer**: \n",
    "```\n",
    "[{\n",
    "    \"Movie\": \"Green Book\",\n",
    "    \"Actors\": [\"Viggo Mortensen\", \"Mahershala Ali\", \"Linda Cardellini\"],\n",
    "    \"Director\": \"Peter Farrelly\",\n",
    "    \"Year\": 2018\n",
    "},\n",
    "{\n",
    "    \"Movie\": \"The Post\",\n",
    "    \"Actors\": [\"Meryl Streep\", \"Tom Hanks\", \"Sarah Paulson\"],\n",
    "    \"Director\": \"Steven Spielberg\",\n",
    "    \"Year\": 2017\n",
    "},\n",
    "{\n",
    "    \"Movie\": \"Roma\",\n",
    "    \"Actors\": [\"Yalitza Aparicio\", \"Marina de Tavira\"],\n",
    "    \"Director\": \"Alfonso Cuarón\",\n",
    "    \"Year\": 2018\n",
    "},\n",
    "{\n",
    "    \"Movie\": \"Spotlight\",\n",
    "    \"Actors\": [\"Mark Rufallo\", \"Michael Keaton\", \"Rachel McAdams\"],\n",
    "    \"Director\": \"Tom McCarthy\",\n",
    "    \"Year\": 2015\n",
    "}]\n",
    "```"
   ]
  },
  {
   "cell_type": "code",
   "execution_count": 35,
   "metadata": {},
   "outputs": [
    {
     "data": {
      "text/plain": [
       "[{'Movie': 'Green Book',\n",
       "  'Actors': ['Viggo Mortensen', 'Mahershala Ali', 'Linda Cardellini'],\n",
       "  'Director': 'Peter Farrelly',\n",
       "  'Year': 2018},\n",
       " {'Movie': 'The Post',\n",
       "  'Actors': ['Meryl Streep', 'Tom Hanks', 'Sarah Paulson'],\n",
       "  'Director': 'Steven Spielberg',\n",
       "  'Year': 2017},\n",
       " {'Movie': 'Roma',\n",
       "  'Actors': ['Yalitza Aparicio', 'Marina de Tavira'],\n",
       "  'Director': 'Alfonso Cuarón',\n",
       "  'Year': 2018},\n",
       " {'Movie': 'Spotlight',\n",
       "  'Actors': ['Mark Rufallo', 'Michael Keaton', 'Rachel McAdams'],\n",
       "  'Director': 'Tom McCarthy',\n",
       "  'Year': 2015}]"
      ]
     },
     "execution_count": 35,
     "metadata": {},
     "output_type": "execute_result"
    }
   ],
   "source": [
    "oscars = bs.findAll(\"tr\", {\"class\": \"oscar\"})\n",
    "names = [get_info(movie.findChildren(), header) for movie in oscars]\n",
    "names"
   ]
  },
  {
   "cell_type": "markdown",
   "metadata": {},
   "source": [
    "### d.\n",
    "Get all directors.\n",
    "\n",
    "**Answer**:\n",
    " ```{'Chris Columbus', 'Alfonso Cuarón', 'Mike Newell', 'David Yates', 'Peter Farrelly', 'Steven Spielberg', 'Tom McCarthy'}```\n",
    "\n",
    "> **Tip:**  The directors are not in the same column index in the two tables."
   ]
  },
  {
   "cell_type": "code",
   "execution_count": 66,
   "metadata": {},
   "outputs": [
    {
     "data": {
      "text/plain": [
       "{'Alfonso Cuarón',\n",
       " 'Chris Columbus',\n",
       " 'David Yates',\n",
       " 'Denis Villeneuve',\n",
       " 'Mike Newell',\n",
       " 'Peter Farrelly',\n",
       " 'Steven Spielberg',\n",
       " 'Tom McCarthy'}"
      ]
     },
     "execution_count": 66,
     "metadata": {},
     "output_type": "execute_result"
    }
   ],
   "source": [
    "# Code below\n",
    "\n",
    "tables = bs.findAll(\"table\")\n",
    "directors = set()\n",
    "\n",
    "for table in tables:\n",
    "    header = getHeader(table.findChildren()[0])\n",
    "    movies = table.findAll(\"tr\")\n",
    "    for movie in movies[1:]:\n",
    "        inf = get_info(movie.findChildren(), header)\n",
    "        directors.add(inf[\"Director\"])\n",
    "\n",
    "directors"
   ]
  },
  {
   "cell_type": "markdown",
   "metadata": {},
   "source": [
    "### e.\n",
    "Get the next movie in the table after the one that was lauched in 2004.\n",
    "\n",
    "**Answer**: \n",
    "```\n",
    "{\n",
    "    \"Movie\": \"Harry Potter and the Goblet of Fire\",\n",
    "    \"Actors\": [\"Daniel Radcliffe\", \"Emma Watson\", \"Rupert Grint\", \"Alan Rickman\", \"Michael Gambon\"],\n",
    "    \"Year\": 2005,\n",
    "    \"Director\": \"Mike Newell\"\n",
    "}\n",
    "```"
   ]
  },
  {
   "cell_type": "code",
   "execution_count": 77,
   "metadata": {},
   "outputs": [
    {
     "data": {
      "text/plain": [
       "{'Movie': 'Harry Potter and the Goblet of Fire',\n",
       " 'Actors': ['Daniel Radcliffe',\n",
       "  'Emma Watson',\n",
       "  'Rupert Grint',\n",
       "  'Alan Rickman',\n",
       "  'Michael Gambon'],\n",
       " 'Year': 2005,\n",
       " 'Director': 'Mike Newell'}"
      ]
     },
     "execution_count": 77,
     "metadata": {},
     "output_type": "execute_result"
    }
   ],
   "source": [
    "# Code below\n",
    "\n",
    "movie2004 = bs.find(\"td\", text=\"2004\").findParent()\n",
    "header2 = getHeader(movie2004.findParent().findChild())\n",
    "movie_after_2004 = get_info(movie2004.findNextSibling().findChildren(), header2)\n",
    "\n",
    "movie_after_2004"
   ]
  },
  {
   "cell_type": "markdown",
   "metadata": {},
   "source": [
    "### f.\n",
    "Get the production company responsible for *Harry Potter and the Half-Blood Prince*.\n",
    "\n",
    "**Answer**: Warner Bros. Pictures"
   ]
  },
  {
   "cell_type": "code",
   "execution_count": 85,
   "metadata": {},
   "outputs": [
    {
     "data": {
      "text/plain": [
       "'Warner Bros. Pictures'"
      ]
     },
     "execution_count": 85,
     "metadata": {},
     "output_type": "execute_result"
    }
   ],
   "source": [
    "# Code below\n",
    "company = bs.find(\"td\", text=\"Harry Potter and the Half-Blood Prince\").findParent().findParent().findParent().h2\n",
    "\n",
    "company.get_text()"
   ]
  },
  {
   "cell_type": "markdown",
   "metadata": {},
   "source": [
    "### g.\n",
    "Get URL from images.\n",
    "\n",
    "**Answer**: `[\"https://upload.wikimedia.org/wikipedia/commons/thumb/d/d2/Warner_Bros._%282019%29_logo.svg/1200px-Warner_Bros._%282019%29_logo.svg.png\", \"https://upload.wikimedia.org/wikipedia/commons/0/07/Participant_%282019%29.svg\"]`"
   ]
  },
  {
   "cell_type": "code",
   "execution_count": 88,
   "metadata": {},
   "outputs": [
    {
     "data": {
      "text/plain": [
       "['https://upload.wikimedia.org/wikipedia/commons/thumb/d/d2/Warner_Bros._%282019%29_logo.svg/1200px-Warner_Bros._%282019%29_logo.svg.png',\n",
       " 'https://upload.wikimedia.org/wikipedia/commons/0/07/Participant_%282019%29.svg']"
      ]
     },
     "execution_count": 88,
     "metadata": {},
     "output_type": "execute_result"
    }
   ],
   "source": [
    "# Code below\n",
    "\n",
    "images = bs.findAll(\"img\")\n",
    "links = [image.get(\"src\") for image in images]\n",
    "links"
   ]
  },
  {
   "cell_type": "markdown",
   "metadata": {},
   "source": [
    "### h.\n",
    "Get the name of all movies which have 're' in ther names.\n",
    "\n",
    "**Answer**: `['Harry Potter and the Chamber of Secrets', 'Harry Potter and the Goblet of Fire', 'Green Book']`"
   ]
  },
  {
   "cell_type": "code",
   "execution_count": 99,
   "metadata": {},
   "outputs": [
    {
     "data": {
      "text/plain": [
       "['Harry Potter and the Chamber of Secrets',\n",
       " 'Harry Potter and the Goblet of Fire',\n",
       " 'Green Book']"
      ]
     },
     "execution_count": 99,
     "metadata": {},
     "output_type": "execute_result"
    }
   ],
   "source": [
    "# Code below\n",
    "import re\n",
    "\n",
    "def get_all_movies():\n",
    "    movies = []\n",
    "\n",
    "    for table in tables:\n",
    "        header = getHeader(table.findChildren()[0])\n",
    "        movies_tr = table.findAll(\"tr\")\n",
    "        for movie in movies_tr[1:]:\n",
    "            inf = get_info(movie.findChildren(), header)\n",
    "            movies.append(inf)\n",
    "\n",
    "    return movies\n",
    "\n",
    "\n",
    "\n",
    "tables = bs.findAll(\"table\")\n",
    "movies = get_all_movies()\n",
    "movies_with_re = [mo[\"Movie\"] for mo in movies if re.match(r'.*re.*', mo[\"Movie\"])]\n",
    "\n",
    "movies_with_re"
   ]
  },
  {
   "cell_type": "markdown",
   "metadata": {},
   "source": [
    "### i.\n",
    "This is a **challenge exercise**. Get the name of the movies for each director which have directed both in Warner Bros Pictures and Participant Films.\n",
    "\n",
    "**Answer**: \n",
    "```\n",
    "{\n",
    "    'Alfonso Cuarón': ['Harry Potter and the Prisoner of Askaban', 'Roma']\n",
    "}\n",
    "```"
   ]
  },
  {
   "cell_type": "code",
   "execution_count": 114,
   "metadata": {},
   "outputs": [
    {
     "data": {
      "text/plain": [
       "{'Alfonso Cuarón': ['Harry Potter and the Prisoner of Askaban', 'Roma']}"
      ]
     },
     "execution_count": 114,
     "metadata": {},
     "output_type": "execute_result"
    }
   ],
   "source": [
    "# Code below\n",
    "\n",
    "def get_by_company(company):\n",
    "    movies = []\n",
    "\n",
    "    table = bs.find(\"div\", {\"id\": company}).find(\"table\") \n",
    "\n",
    "    header = getHeader(table.findChildren()[0])\n",
    "    \n",
    "    movies_tr = table.findAll(\"tr\")\n",
    "    for movie in movies_tr[1:]:\n",
    "        inf = get_info(movie.findChildren(), header)\n",
    "        movies.append(inf)\n",
    "\n",
    "    return movies\n",
    "\n",
    "directors = {}\n",
    "\n",
    "warner = get_by_company(\"warner\")\n",
    "part = get_by_company(\"participant\")\n",
    "\n",
    "for movie_w in warner:\n",
    "    if movie_w[\"Director\"] not in directors.keys():\n",
    "        same = False\n",
    "        \n",
    "        for movie_p in part:\n",
    "            if movie_w[\"Director\"] == movie_p[\"Director\"]:\n",
    "                same = True\n",
    "                break\n",
    "\n",
    "        if same:\n",
    "            directors[movie_w[\"Director\"]] = [info[\"Movie\"] for info in warner + part if info[\"Director\"] == movie_w[\"Director\"]]\n",
    "\n",
    "directors"
   ]
  }
 ],
 "metadata": {
  "kernelspec": {
   "display_name": "Python 3.10.6 64-bit",
   "language": "python",
   "name": "python3"
  },
  "language_info": {
   "codemirror_mode": {
    "name": "ipython",
    "version": 3
   },
   "file_extension": ".py",
   "mimetype": "text/x-python",
   "name": "python",
   "nbconvert_exporter": "python",
   "pygments_lexer": "ipython3",
   "version": "3.10.6"
  },
  "orig_nbformat": 4,
  "vscode": {
   "interpreter": {
    "hash": "916dbcbb3f70747c44a77c7bcd40155683ae19c65e1c03b4aa3499c5328201f1"
   }
  }
 },
 "nbformat": 4,
 "nbformat_minor": 2
}
