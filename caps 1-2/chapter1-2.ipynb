{
 "cells": [
  {
   "cell_type": "markdown",
   "metadata": {},
   "source": [
    "# Capítulos 1 e 2"
   ]
  },
  {
   "cell_type": "markdown",
   "metadata": {},
   "source": [
    "In the chapters 1 and 2 of \"Web Scraping with Python\" you were able to learn more about the following subjects:\n",
    "* Exception Handling\n",
    "* BeautifulSoup\n",
    "  * find() and findall()\n",
    "    * argument *attributes*\n",
    "    * argument *text*\n",
    "    * argument *limit*\n",
    "  * children() and descendants()\n",
    "  * next_siblings() and previous_siblings()\n",
    "  * parent() e parents()\n",
    "* Accessing attributes\n",
    "* Regular Expressions\n",
    "* Lambda Expressions\n",
    "  \n",
    "The following cells aim to practice the contents listed above. For any sugestions, contact *gabriel.vasconcelos@usp.br*\n",
    "\n",
    "Use the website https://scraping-cap1-2.netlify.app/ to answer this notebook."
   ]
  },
  {
   "cell_type": "code",
   "execution_count": null,
   "metadata": {},
   "outputs": [],
   "source": [
    "# Import BeautifulSoup and other libraries you find useful"
   ]
  },
  {
   "cell_type": "code",
   "execution_count": null,
   "metadata": {},
   "outputs": [],
   "source": [
    "# Get the website https://scraping-cap1-2.netlify.app/ and pass it to a BeautifulSoup object \n",
    "# with proper error handling"
   ]
  },
  {
   "cell_type": "markdown",
   "metadata": {},
   "source": [
    "### a.\n",
    "Get all information about the movie \"Green Book\".\n",
    "\n",
    "**Answer**: \n",
    "```\n",
    "{\n",
    "    \"Movie\": \"Green Book\",\n",
    "    \"Actors\": [\"Viggo Mortensen\", \"Mahershala Ali\", \"Linda Cardellini\"],\n",
    "    \"Director\": \"Peter Farrelly\",\n",
    "    \"Year\": 2018\n",
    "}\n",
    "```"
   ]
  },
  {
   "cell_type": "code",
   "execution_count": null,
   "metadata": {},
   "outputs": [],
   "source": [
    "# Code below"
   ]
  },
  {
   "cell_type": "markdown",
   "metadata": {},
   "source": [
    "### b.\n",
    "Get the title of the first two movies that appeared in the website which have won the Oscars.\n",
    "\n",
    "Answer: `[\"Green Book\", \"The Post\"]`"
   ]
  },
  {
   "cell_type": "code",
   "execution_count": null,
   "metadata": {},
   "outputs": [],
   "source": [
    "# Code below"
   ]
  },
  {
   "cell_type": "markdown",
   "metadata": {},
   "source": [
    "### c.\n",
    "Get all information from movies of Participant Films.\n",
    "\n",
    "**Answer**: \n",
    "```\n",
    "[{\n",
    "    \"Movie\": \"Green Book\",\n",
    "    \"Actors\": [\"Viggo Mortensen\", \"Mahershala Ali\", \"Linda Cardellini\"],\n",
    "    \"Director\": \"Peter Farrelly\",\n",
    "    \"Year\": 2018\n",
    "},\n",
    "{\n",
    "    \"Movie\": \"The Post\",\n",
    "    \"Actors\": [\"Meryl Streep\", \"Tom Hanks\", \"Sarah Paulson\"],\n",
    "    \"Director\": \"Steven Spielberg\",\n",
    "    \"Year\": 2017\n",
    "},\n",
    "{\n",
    "    \"Movie\": \"Roma\",\n",
    "    \"Actors\": [\"Yalitza Aparicio\", \"Marina de Tavira\"],\n",
    "    \"Director\": \"Alfonso Cuarón\",\n",
    "    \"Year\": 2018\n",
    "},\n",
    "{\n",
    "    \"Movie\": \"Spotlight\",\n",
    "    \"Actors\": [\"Mark Rufallo\", \"Michael Keaton\", \"Rachel McAdams\"],\n",
    "    \"Director\": \"Tom McCarthy\",\n",
    "    \"Year\": 2015\n",
    "}]\n",
    "```"
   ]
  },
  {
   "cell_type": "code",
   "execution_count": null,
   "metadata": {},
   "outputs": [],
   "source": [
    "# Code below"
   ]
  },
  {
   "cell_type": "markdown",
   "metadata": {},
   "source": [
    "### d.\n",
    "Get all directors.\n",
    "\n",
    "**Answer**:\n",
    " ```{'Chris Columbus', 'Alfonso Cuarón', 'Mike Newell', 'David Yates', 'Peter Farrelly', 'Steven Spielberg', 'Tom McCarthy'}```\n",
    "\n",
    "> **Tip:**  The directors are not in the same column index in the two tables."
   ]
  },
  {
   "cell_type": "code",
   "execution_count": null,
   "metadata": {},
   "outputs": [],
   "source": [
    "# Code below"
   ]
  },
  {
   "cell_type": "markdown",
   "metadata": {},
   "source": [
    "### e.\n",
    "Get the next movie in the table after the one that was lauched in 2004.\n",
    "\n",
    "**Answer**: \n",
    "```\n",
    "{\n",
    "    \"Movie\": \"Harry Potter and the Goblet of Fire\",\n",
    "    \"Actors\": [\"Daniel Radcliffe\", \"Emma Watson\", \"Rupert Grint\", \"Alan Rickman\", \"Michael Gambon\"],\n",
    "    \"Year\": 2005,\n",
    "    \"Director\": \"Mike Newell\"\n",
    "}\n",
    "```"
   ]
  },
  {
   "cell_type": "code",
   "execution_count": null,
   "metadata": {},
   "outputs": [],
   "source": [
    "# Code below"
   ]
  },
  {
   "cell_type": "markdown",
   "metadata": {},
   "source": [
    "### f.\n",
    "Get the production company responsible for *Harry Potter and the Half-Blood Prince*.\n",
    "\n",
    "**Answer**: Warner Bros. Pictures"
   ]
  },
  {
   "cell_type": "code",
   "execution_count": null,
   "metadata": {},
   "outputs": [],
   "source": [
    "# Code below"
   ]
  },
  {
   "cell_type": "markdown",
   "metadata": {},
   "source": [
    "### g.\n",
    "Get URL from images.\n",
    "\n",
    "**Answer**: `[\"https://upload.wikimedia.org/wikipedia/commons/thumb/d/d2/Warner_Bros._%282019%29_logo.svg/1200px-Warner_Bros._%282019%29_logo.svg.png\", \"https://upload.wikimedia.org/wikipedia/commons/0/07/Participant_%282019%29.svg\"]`"
   ]
  },
  {
   "cell_type": "code",
   "execution_count": null,
   "metadata": {},
   "outputs": [],
   "source": [
    "# Code below"
   ]
  },
  {
   "cell_type": "markdown",
   "metadata": {},
   "source": [
    "### h.\n",
    "Get the name of all movies which have 're' in ther names.\n",
    "\n",
    "**Answer**: `['Harry Potter and the Chamber of Secrets', 'Harry Potter and the Goblet of Fire', 'Green Book']`"
   ]
  },
  {
   "cell_type": "code",
   "execution_count": null,
   "metadata": {},
   "outputs": [],
   "source": [
    "# Code below"
   ]
  },
  {
   "cell_type": "markdown",
   "metadata": {},
   "source": [
    "### i.\n",
    "This is a **challenge exercise**. Get the name of the movies for each director which have directed both in Warner Bros Pictures and Participant Films.\n",
    "\n",
    "**Answer**: \n",
    "```\n",
    "{\n",
    "    'Alfonso Cuarón': ['Harry Potter and the Prisoner of Askaban', 'Roma']\n",
    "}\n",
    "```"
   ]
  },
  {
   "cell_type": "code",
   "execution_count": null,
   "metadata": {},
   "outputs": [],
   "source": [
    "# Code below"
   ]
  }
 ],
 "metadata": {
  "kernelspec": {
   "display_name": "Python 3.9.13 64-bit (microsoft store)",
   "language": "python",
   "name": "python3"
  },
  "language_info": {
   "name": "python",
   "version": "3.9.13"
  },
  "orig_nbformat": 4,
  "vscode": {
   "interpreter": {
    "hash": "b7f22e608a9410c9a00adbb49e3cb6a72010c497ae6b30c9496ff58de178a89c"
   }
  }
 },
 "nbformat": 4,
 "nbformat_minor": 2
}
